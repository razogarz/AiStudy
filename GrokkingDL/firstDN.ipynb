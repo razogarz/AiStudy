{
 "cells": [
  {
   "cell_type": "code",
   "outputs": [],
   "source": [
    "import numpy as np"
   ],
   "metadata": {
    "collapsed": false,
    "ExecuteTime": {
     "end_time": "2024-02-20T17:40:57.132829168Z",
     "start_time": "2024-02-20T17:40:57.071519795Z"
    }
   },
   "id": "f0bbbd6bfe87dc7c",
   "execution_count": 1
  },
  {
   "cell_type": "code",
   "outputs": [],
   "source": [
    "np.random.seed(1)\n",
    "\n",
    "# we use relu as activation function, basically if x > 0, return x, else return 0\n",
    "def relu(x):\n",
    "    return (x > 0) * x\n",
    "\n",
    "# derivative of relu, if x > 0, return 1, else return 0\n",
    "def relu2deriv(output):\n",
    "    return output > 0"
   ],
   "metadata": {
    "collapsed": false,
    "ExecuteTime": {
     "end_time": "2024-02-20T11:31:27.550923855Z",
     "start_time": "2024-02-20T11:31:27.540557724Z"
    }
   },
   "id": "ac2dcb90895aed9",
   "execution_count": 2
  },
  {
   "cell_type": "code",
   "outputs": [
    {
     "name": "stdout",
     "output_type": "stream",
     "text": [
      "[[ 0.48592313  0.65281058  0.55586494  0.33712176]\n",
      " [-0.33939986  0.53146812 -0.35305256  0.85016564]\n",
      " [-0.98817535 -0.50033869  0.23602321  0.79140387]]\n"
     ]
    }
   ],
   "source": [
    "# This whole lights example is a xor problem, if the first light is on, the second light is off, then we should walk\n",
    "# we use 2 layers of neural network to solve this problem\n",
    "lights = np.array([[1, 0, 1],\n",
    "                   [0, 1, 1],\n",
    "                   [0, 0, 1],\n",
    "                   [1, 1, 1]])\n",
    "\n",
    "walk_stop = np.array([[1, 1, 0, 0]]).T\n",
    "alpha = 0.2\n",
    "hidden_size = 4\n",
    "\n",
    "weights_0_1 = 2 * np.random.random((3, hidden_size)) - 1\n",
    "weights_1_2 = 2 * np.random.random((hidden_size, 1)) - 1\n",
    "print(weights_0_1)"
   ],
   "metadata": {
    "collapsed": false,
    "ExecuteTime": {
     "end_time": "2024-02-20T17:43:37.933316462Z",
     "start_time": "2024-02-20T17:43:37.928500258Z"
    }
   },
   "id": "307fd600b2ee5ef7",
   "execution_count": 4
  },
  {
   "cell_type": "code",
   "outputs": [
    {
     "name": "stdout",
     "output_type": "stream",
     "text": [
      "Error: 0.6342311598444467\n",
      "Error: 0.35838407676317513\n",
      "Error: 0.0830183113303298\n",
      "Error: 0.006467054957103705\n",
      "Error: 0.0003292669000750734\n",
      "Error: 1.5055622665134859e-05\n"
     ]
    }
   ],
   "source": [
    "for iteration in range(60):\n",
    "    layer_2_error = 0\n",
    "    for i in range(len(lights)):\n",
    "        layer_0 = lights[i:i+1]\n",
    "        layer_1 = relu(np.dot(layer_0, weights_0_1))\n",
    "        layer_2 = np.dot(layer_1, weights_1_2)\n",
    "        \n",
    "        layer_2_error += np.sum((layer_2 - walk_stop[i:i+1]) ** 2)\n",
    "        layer_2_delta = (walk_stop[i:i+1] - layer_2)\n",
    "        layer_1_delta = layer_2_delta.dot(weights_1_2.T) * relu2deriv(layer_1)\n",
    "        \n",
    "        weights_1_2 += alpha * layer_1.T.dot(layer_2_delta)\n",
    "        weights_0_1 += alpha * layer_0.T.dot(layer_1_delta)\n",
    "    if iteration % 10 == 9:\n",
    "        print(\"Error: \" + str(layer_2_error))"
   ],
   "metadata": {
    "collapsed": false,
    "ExecuteTime": {
     "end_time": "2024-02-20T11:32:48.586178714Z",
     "start_time": "2024-02-20T11:32:48.575442829Z"
    }
   },
   "id": "cbcb52e898498d5e",
   "execution_count": 5
  },
  {
   "cell_type": "code",
   "outputs": [],
   "source": [
    "#TODO: REBUILD FROM MEMORY"
   ],
   "metadata": {
    "collapsed": false
   },
   "id": "3b1a221e7ea03a8a"
  },
  {
   "cell_type": "code",
   "outputs": [
    {
     "name": "stdout",
     "output_type": "stream",
     "text": [
      "Error: 0.6342311598444467\n",
      "Error: 0.35838407676317513\n",
      "Error: 0.0830183113303298\n",
      "Error: 0.006467054957103705\n",
      "Error: 0.0003292669000750734\n",
      "Error: 1.5055622665134859e-05\n"
     ]
    }
   ],
   "source": [
    "np.random.seed(1)\n",
    "def relu2(output):\n",
    "    return (output > 0) * output\n",
    "\n",
    "def relu2der(output):\n",
    "    return output > 0\n",
    "\n",
    "lights = np.array([[1, 0, 1],\n",
    "                   [0, 1, 1],\n",
    "                   [0, 0, 1],\n",
    "                   [1, 1, 1]])\n",
    "\n",
    "walk_stop = np.array([[1, 1, 0, 0]])\n",
    "alpha = 0.2\n",
    "hidden_size = 4\n",
    "\n",
    "weights_0_1_2 = 2 * np.random.random((lights[0].size, hidden_size)) - 1\n",
    "weights_1_2_2 = 2 * np.random.random((hidden_size,1)) - 1\n",
    "\n",
    "for iteration in range(60):\n",
    "    layer_2_error = 0\n",
    "    index = 0\n",
    "    for i in range(len(lights)):\n",
    "        input = lights[i:i+1]\n",
    "        layer_1 = np.dot(input,weights_0_1_2)\n",
    "        layer_1 = relu2(layer_1)\n",
    "        layer_2 = np.dot(layer_1, weights_1_2_2)\n",
    "        \n",
    "        layer_2_error += np.sum((layer_2 - walk_stop[0][i:i+1]) ** 2)\n",
    "        layer_2_delta = (walk_stop[0][i:i+1] - layer_2)\n",
    "        layer_1_delta = layer_2_delta.dot(weights_1_2_2.T) * relu2der(layer_1)\n",
    "        \n",
    "        weights_1_2_2 += alpha * layer_1.T.dot(layer_2_delta)\n",
    "        weights_0_1_2 += alpha * input.T.dot(layer_1_delta)\n",
    "    if iteration % 10 == 9:\n",
    "        print(\"Error: \" + str(layer_2_error))"
   ],
   "metadata": {
    "collapsed": false,
    "ExecuteTime": {
     "end_time": "2024-02-20T18:10:27.919860707Z",
     "start_time": "2024-02-20T18:10:27.871425443Z"
    }
   },
   "id": "f59df6226df627eb",
   "execution_count": 70
  },
  {
   "cell_type": "code",
   "outputs": [],
   "source": [],
   "metadata": {
    "collapsed": false
   },
   "id": "1af3972b4408d3a6"
  }
 ],
 "metadata": {
  "kernelspec": {
   "display_name": "Python 3",
   "language": "python",
   "name": "python3"
  },
  "language_info": {
   "codemirror_mode": {
    "name": "ipython",
    "version": 2
   },
   "file_extension": ".py",
   "mimetype": "text/x-python",
   "name": "python",
   "nbconvert_exporter": "python",
   "pygments_lexer": "ipython2",
   "version": "2.7.6"
  }
 },
 "nbformat": 4,
 "nbformat_minor": 5
}
